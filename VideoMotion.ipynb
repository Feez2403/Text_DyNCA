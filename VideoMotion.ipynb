{
 "cells": [
  {
   "cell_type": "code",
   "execution_count": 11,
   "metadata": {},
   "outputs": [
    {
     "name": "stdout",
     "output_type": "stream",
     "text": [
      "[[1000, 2000]]\n"
     ]
    }
   ],
   "source": [
    "'''Training Script for DyNCA, Video Motion'''\n",
    "# =================================\n",
    "# ============ image and video setting ============\n",
    "# =================================\n",
    "img_size_x = 256\n",
    "img_size_y = 256\n",
    "motion_img_size_x = img_size_x\n",
    "motion_img_size_y = img_size_y\n",
    "video_length = 20\n",
    "\n",
    "# =================================\n",
    "# =========== NCA ============\n",
    "# =================================\n",
    "nca_pool_size = 256\n",
    "nca_step_range_min = 80\n",
    "nca_step_range_max = 144 \n",
    "nca_inject_seed_step = 8 \n",
    "nca_channels = 16\n",
    "nca_fc_dim = 128\n",
    "nca_seed_mode = \"zeros\"\n",
    "nca_random_seed = 42\n",
    "nca_padding_mode = \"replicate\"\n",
    "nca_pos_emb = \"CPE\"\n",
    "motion_nca_interval = 64\n",
    "nca_warmup_iter = 1000\n",
    "\n",
    "# =================================\n",
    "# ============= loss ==============\n",
    "# =================================\n",
    "texture_loss_weight = 1.0\n",
    "overflow_loss_weight = 1.0\n",
    "\n",
    "# =================================\n",
    "# ========  Optimization  =========\n",
    "# =================================\n",
    "iterations = 5000\n",
    "save_every = 501\n",
    "batch_size = 4\n",
    "if(img_size_x == 256):\n",
    "    batch_size = 3\n",
    "lr = 0.001\n",
    "device = \"cuda:0\" \n",
    "output_dir = \"out/VideoMotion/\"\n",
    "'''Path to motion video'''\n",
    "target_dynamics_path = \"data/VideoMotion/Motion/smoke_plume_1.gif\"\n",
    "'''Path to target texture video'''\n",
    "target_appearance_path = \"data/VideoMotion/Appearance/smoke_plume_1.gif\"\n",
    "\n",
    "!python fit_video_motion.py --video_length $video_length \\\n",
    "      --output_dir $output_dir --img_size $img_size_x $img_size_y --motion_img_size $motion_img_size_x $motion_img_size_y\\\n",
    "      --target_dynamics_path $target_dynamics_path --target_appearance_path $target_appearance_path\\\n",
    "      --nca_pool_size $nca_pool_size --nca_step_range $nca_step_range_min $nca_step_range_max \\\n",
    "      --nca_inject_seed_step $nca_inject_seed_step --nca_channels $nca_channels \\\n",
    "      --nca_fc_dim $nca_fc_dim \\\n",
    "      --nca_seed_mode $nca_seed_mode \\\n",
    "      --nca_padding_mode $nca_padding_mode \\\n",
    "      --motion_nca_interval $motion_nca_interval --nca_pos_emb $nca_pos_emb \\\n",
    "      --nca_perception_scales 0 1 --nca_warmup_iter $nca_warmup_iter \\\n",
    "      --motion_model_name \"two_stream_dynamic\" \\\n",
    "      --overflow_loss_weight $overflow_loss_weight \\\n",
    "      --iterations $iterations --save_every $save_every --batch_size $batch_size --lr $lr \\\n",
    "      --lr_decay_step 1000 2000 --DEVICE $device \n"
   ]
  },
  {
   "cell_type": "code",
   "execution_count": null,
   "metadata": {},
   "outputs": [],
   "source": []
  }
 ],
 "metadata": {
  "accelerator": "GPU",
  "colab": {
   "authorship_tag": "ABX9TyM2af18fAFx2HSpUGYx/uwZ",
   "mount_file_id": "1tfDWzQRQWp9Q7PKg_ayBUarFs8VA4jmh",
   "name": "Texture1.ipynb",
   "provenance": []
  },
  "gpuClass": "standard",
  "kernelspec": {
   "display_name": "Python 3",
   "language": "python",
   "name": "python3"
  },
  "language_info": {
   "codemirror_mode": {
    "name": "ipython",
    "version": 3
   },
   "file_extension": ".py",
   "mimetype": "text/x-python",
   "name": "python",
   "nbconvert_exporter": "python",
   "pygments_lexer": "ipython3",
   "version": "3.7.6"
  }
 },
 "nbformat": 4,
 "nbformat_minor": 4
}
